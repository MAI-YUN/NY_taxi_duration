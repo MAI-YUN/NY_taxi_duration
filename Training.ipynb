{
 "cells": [
  {
   "cell_type": "markdown",
   "metadata": {},
   "source": [
    "<a href=\"https://www.kaggle.com/code/tayen1/nyc-taxi-duration?scriptVersionId=236903184\" target=\"_blank\"><img align=\"left\" alt=\"Kaggle\" title=\"Open in Kaggle\" src=\"https://kaggle.com/static/images/open-in-kaggle.svg\"></a>"
   ]
  },
  {
   "cell_type": "markdown",
   "metadata": {},
   "source": [
    "<a href=\"https://www.kaggle.com/code/tayen1/nyc-taxi-duration?scriptVersionId=235741972\" target=\"_blank\"><img align=\"left\" alt=\"Kaggle\" title=\"Open in Kaggle\" src=\"https://kaggle.com/static/images/open-in-kaggle.svg\"></a>"
   ]
  },
  {
   "cell_type": "markdown",
   "metadata": {},
   "source": [
    "<a href=\"https://www.kaggle.com/code/tayen1/nyc-taxi-duration?scriptVersionId=235737872\" target=\"_blank\"><img align=\"left\" alt=\"Kaggle\" title=\"Open in Kaggle\" src=\"https://kaggle.com/static/images/open-in-kaggle.svg\"></a>"
   ]
  },
  {
   "cell_type": "markdown",
   "metadata": {},
   "source": [
    "<a href=\"https://www.kaggle.com/code/tayen1/nyc-taxi-duration?scriptVersionId=235734476\" target=\"_blank\"><img align=\"left\" alt=\"Kaggle\" title=\"Open in Kaggle\" src=\"https://kaggle.com/static/images/open-in-kaggle.svg\"></a>"
   ]
  },
  {
   "cell_type": "code",
   "execution_count": null,
   "metadata": {
    "_cell_guid": "b1076dfc-b9ad-4769-8c92-a6c4dae69d19",
    "_uuid": "8f2839f25d086af736a60e9eeb907d3b93b6e0e5",
    "execution": {
     "iopub.execute_input": "2025-04-29T20:37:59.977219Z",
     "iopub.status.busy": "2025-04-29T20:37:59.977014Z",
     "iopub.status.idle": "2025-04-29T20:38:05.739825Z",
     "shell.execute_reply": "2025-04-29T20:38:05.739036Z",
     "shell.execute_reply.started": "2025-04-29T20:37:59.977197Z"
    },
    "trusted": true
   },
   "outputs": [
    {
     "name": "stdout",
     "output_type": "stream",
     "text": [
      "/kaggle/input/nyc-taxi-trip-duration/train.zip\n",
      "/kaggle/input/nyc-taxi-trip-duration/test.zip\n",
      "/kaggle/input/nyc-taxi-trip-duration/sample_submission.zip\n",
      "Finish unzip\n",
      "/kaggle/working/sample_submission.csv\n",
      "/kaggle/working/train.csv\n",
      "/kaggle/working/test.csv\n"
     ]
    }
   ],
   "source": [
    "# This Python 3 environment comes with many helpful analytics libraries installed\n",
    "# It is defined by the kaggle/python Docker image: https://github.com/kaggle/docker-python\n",
    "# For example, here's several helpful packages to load\n",
    "\n",
    "import numpy as np # linear algebra\n",
    "import pandas as pd # data processing, CSV file I/O (e.g. pd.read_csv)\n",
    "import zipfile\n",
    "from sklearn.compose import ColumnTransformer\n",
    "from sklearn.preprocessing import OneHotEncoder, StandardScaler\n",
    "from sklearn.model_selection import train_test_split\n",
    "from sklearn.ensemble import RandomForestRegressor\n",
    "from sklearn.metrics import mean_squared_error, mean_absolute_percentage_error,median_absolute_error,r2_score,explained_variance_score\n",
    "# Input data files are available in the read-only \"../input/\" directory\n",
    "# For example, running this (by clicking run or pressing Shift+Enter) will list all files under the input directory\n",
    "\n",
    "import os\n",
    "\n",
    "output_dir = '/kaggle/working/'\n",
    "\n",
    "for dirname, _, filenames in os.walk('/kaggle/input'):\n",
    "    for filename in filenames:\n",
    "        data_path_name = os.path.join(dirname, filename)\n",
    "        print(data_path_name)\n",
    "        with zipfile.ZipFile(data_path_name, 'r') as zip_ref:\n",
    "            zip_ref.extractall(output_dir)\n",
    "\n",
    "print(\"Finish unzip\")\n",
    "\n",
    "for dirname, _, filenames in os.walk(output_dir):\n",
    "    for filename in filenames:\n",
    "        print(os.path.join(output_dir, filename))"
   ]
  },
  {
   "cell_type": "code",
   "execution_count": 2,
   "metadata": {
    "execution": {
     "iopub.execute_input": "2025-04-29T20:38:12.459314Z",
     "iopub.status.busy": "2025-04-29T20:38:12.459055Z",
     "iopub.status.idle": "2025-04-29T20:38:16.682695Z",
     "shell.execute_reply": "2025-04-29T20:38:16.681699Z",
     "shell.execute_reply.started": "2025-04-29T20:38:12.459296Z"
    },
    "trusted": true
   },
   "outputs": [],
   "source": [
    "test_df = pd.read_csv(\"/kaggle/working/test.csv\")\n",
    "train_df = pd.read_csv(\"/kaggle/working/train.csv\")\n",
    "sample_submission_df = pd.read_csv(\"/kaggle/working/sample_submission.csv\")"
   ]
  },
  {
   "cell_type": "code",
   "execution_count": 3,
   "metadata": {
    "execution": {
     "iopub.execute_input": "2025-04-29T20:38:23.535483Z",
     "iopub.status.busy": "2025-04-29T20:38:23.535185Z",
     "iopub.status.idle": "2025-04-29T20:38:23.566411Z",
     "shell.execute_reply": "2025-04-29T20:38:23.565692Z",
     "shell.execute_reply.started": "2025-04-29T20:38:23.535461Z"
    },
    "trusted": true
   },
   "outputs": [
    {
     "data": {
      "text/html": [
       "<div>\n",
       "<style scoped>\n",
       "    .dataframe tbody tr th:only-of-type {\n",
       "        vertical-align: middle;\n",
       "    }\n",
       "\n",
       "    .dataframe tbody tr th {\n",
       "        vertical-align: top;\n",
       "    }\n",
       "\n",
       "    .dataframe thead th {\n",
       "        text-align: right;\n",
       "    }\n",
       "</style>\n",
       "<table border=\"1\" class=\"dataframe\">\n",
       "  <thead>\n",
       "    <tr style=\"text-align: right;\">\n",
       "      <th></th>\n",
       "      <th>id</th>\n",
       "      <th>vendor_id</th>\n",
       "      <th>pickup_datetime</th>\n",
       "      <th>dropoff_datetime</th>\n",
       "      <th>passenger_count</th>\n",
       "      <th>pickup_longitude</th>\n",
       "      <th>pickup_latitude</th>\n",
       "      <th>dropoff_longitude</th>\n",
       "      <th>dropoff_latitude</th>\n",
       "      <th>store_and_fwd_flag</th>\n",
       "      <th>trip_duration</th>\n",
       "    </tr>\n",
       "  </thead>\n",
       "  <tbody>\n",
       "    <tr>\n",
       "      <th>0</th>\n",
       "      <td>id2875421</td>\n",
       "      <td>2</td>\n",
       "      <td>2016-03-14 17:24:55</td>\n",
       "      <td>2016-03-14 17:32:30</td>\n",
       "      <td>1</td>\n",
       "      <td>-73.982155</td>\n",
       "      <td>40.767937</td>\n",
       "      <td>-73.964630</td>\n",
       "      <td>40.765602</td>\n",
       "      <td>N</td>\n",
       "      <td>455</td>\n",
       "    </tr>\n",
       "    <tr>\n",
       "      <th>1</th>\n",
       "      <td>id2377394</td>\n",
       "      <td>1</td>\n",
       "      <td>2016-06-12 00:43:35</td>\n",
       "      <td>2016-06-12 00:54:38</td>\n",
       "      <td>1</td>\n",
       "      <td>-73.980415</td>\n",
       "      <td>40.738564</td>\n",
       "      <td>-73.999481</td>\n",
       "      <td>40.731152</td>\n",
       "      <td>N</td>\n",
       "      <td>663</td>\n",
       "    </tr>\n",
       "    <tr>\n",
       "      <th>2</th>\n",
       "      <td>id3858529</td>\n",
       "      <td>2</td>\n",
       "      <td>2016-01-19 11:35:24</td>\n",
       "      <td>2016-01-19 12:10:48</td>\n",
       "      <td>1</td>\n",
       "      <td>-73.979027</td>\n",
       "      <td>40.763939</td>\n",
       "      <td>-74.005333</td>\n",
       "      <td>40.710087</td>\n",
       "      <td>N</td>\n",
       "      <td>2124</td>\n",
       "    </tr>\n",
       "    <tr>\n",
       "      <th>3</th>\n",
       "      <td>id3504673</td>\n",
       "      <td>2</td>\n",
       "      <td>2016-04-06 19:32:31</td>\n",
       "      <td>2016-04-06 19:39:40</td>\n",
       "      <td>1</td>\n",
       "      <td>-74.010040</td>\n",
       "      <td>40.719971</td>\n",
       "      <td>-74.012268</td>\n",
       "      <td>40.706718</td>\n",
       "      <td>N</td>\n",
       "      <td>429</td>\n",
       "    </tr>\n",
       "    <tr>\n",
       "      <th>4</th>\n",
       "      <td>id2181028</td>\n",
       "      <td>2</td>\n",
       "      <td>2016-03-26 13:30:55</td>\n",
       "      <td>2016-03-26 13:38:10</td>\n",
       "      <td>1</td>\n",
       "      <td>-73.973053</td>\n",
       "      <td>40.793209</td>\n",
       "      <td>-73.972923</td>\n",
       "      <td>40.782520</td>\n",
       "      <td>N</td>\n",
       "      <td>435</td>\n",
       "    </tr>\n",
       "    <tr>\n",
       "      <th>...</th>\n",
       "      <td>...</td>\n",
       "      <td>...</td>\n",
       "      <td>...</td>\n",
       "      <td>...</td>\n",
       "      <td>...</td>\n",
       "      <td>...</td>\n",
       "      <td>...</td>\n",
       "      <td>...</td>\n",
       "      <td>...</td>\n",
       "      <td>...</td>\n",
       "      <td>...</td>\n",
       "    </tr>\n",
       "    <tr>\n",
       "      <th>1458639</th>\n",
       "      <td>id2376096</td>\n",
       "      <td>2</td>\n",
       "      <td>2016-04-08 13:31:04</td>\n",
       "      <td>2016-04-08 13:44:02</td>\n",
       "      <td>4</td>\n",
       "      <td>-73.982201</td>\n",
       "      <td>40.745522</td>\n",
       "      <td>-73.994911</td>\n",
       "      <td>40.740170</td>\n",
       "      <td>N</td>\n",
       "      <td>778</td>\n",
       "    </tr>\n",
       "    <tr>\n",
       "      <th>1458640</th>\n",
       "      <td>id1049543</td>\n",
       "      <td>1</td>\n",
       "      <td>2016-01-10 07:35:15</td>\n",
       "      <td>2016-01-10 07:46:10</td>\n",
       "      <td>1</td>\n",
       "      <td>-74.000946</td>\n",
       "      <td>40.747379</td>\n",
       "      <td>-73.970184</td>\n",
       "      <td>40.796547</td>\n",
       "      <td>N</td>\n",
       "      <td>655</td>\n",
       "    </tr>\n",
       "    <tr>\n",
       "      <th>1458641</th>\n",
       "      <td>id2304944</td>\n",
       "      <td>2</td>\n",
       "      <td>2016-04-22 06:57:41</td>\n",
       "      <td>2016-04-22 07:10:25</td>\n",
       "      <td>1</td>\n",
       "      <td>-73.959129</td>\n",
       "      <td>40.768799</td>\n",
       "      <td>-74.004433</td>\n",
       "      <td>40.707371</td>\n",
       "      <td>N</td>\n",
       "      <td>764</td>\n",
       "    </tr>\n",
       "    <tr>\n",
       "      <th>1458642</th>\n",
       "      <td>id2714485</td>\n",
       "      <td>1</td>\n",
       "      <td>2016-01-05 15:56:26</td>\n",
       "      <td>2016-01-05 16:02:39</td>\n",
       "      <td>1</td>\n",
       "      <td>-73.982079</td>\n",
       "      <td>40.749062</td>\n",
       "      <td>-73.974632</td>\n",
       "      <td>40.757107</td>\n",
       "      <td>N</td>\n",
       "      <td>373</td>\n",
       "    </tr>\n",
       "    <tr>\n",
       "      <th>1458643</th>\n",
       "      <td>id1209952</td>\n",
       "      <td>1</td>\n",
       "      <td>2016-04-05 14:44:25</td>\n",
       "      <td>2016-04-05 14:47:43</td>\n",
       "      <td>1</td>\n",
       "      <td>-73.979538</td>\n",
       "      <td>40.781750</td>\n",
       "      <td>-73.972809</td>\n",
       "      <td>40.790585</td>\n",
       "      <td>N</td>\n",
       "      <td>198</td>\n",
       "    </tr>\n",
       "  </tbody>\n",
       "</table>\n",
       "<p>1458644 rows × 11 columns</p>\n",
       "</div>"
      ],
      "text/plain": [
       "                id  vendor_id      pickup_datetime     dropoff_datetime  \\\n",
       "0        id2875421          2  2016-03-14 17:24:55  2016-03-14 17:32:30   \n",
       "1        id2377394          1  2016-06-12 00:43:35  2016-06-12 00:54:38   \n",
       "2        id3858529          2  2016-01-19 11:35:24  2016-01-19 12:10:48   \n",
       "3        id3504673          2  2016-04-06 19:32:31  2016-04-06 19:39:40   \n",
       "4        id2181028          2  2016-03-26 13:30:55  2016-03-26 13:38:10   \n",
       "...            ...        ...                  ...                  ...   \n",
       "1458639  id2376096          2  2016-04-08 13:31:04  2016-04-08 13:44:02   \n",
       "1458640  id1049543          1  2016-01-10 07:35:15  2016-01-10 07:46:10   \n",
       "1458641  id2304944          2  2016-04-22 06:57:41  2016-04-22 07:10:25   \n",
       "1458642  id2714485          1  2016-01-05 15:56:26  2016-01-05 16:02:39   \n",
       "1458643  id1209952          1  2016-04-05 14:44:25  2016-04-05 14:47:43   \n",
       "\n",
       "         passenger_count  pickup_longitude  pickup_latitude  \\\n",
       "0                      1        -73.982155        40.767937   \n",
       "1                      1        -73.980415        40.738564   \n",
       "2                      1        -73.979027        40.763939   \n",
       "3                      1        -74.010040        40.719971   \n",
       "4                      1        -73.973053        40.793209   \n",
       "...                  ...               ...              ...   \n",
       "1458639                4        -73.982201        40.745522   \n",
       "1458640                1        -74.000946        40.747379   \n",
       "1458641                1        -73.959129        40.768799   \n",
       "1458642                1        -73.982079        40.749062   \n",
       "1458643                1        -73.979538        40.781750   \n",
       "\n",
       "         dropoff_longitude  dropoff_latitude store_and_fwd_flag  trip_duration  \n",
       "0               -73.964630         40.765602                  N            455  \n",
       "1               -73.999481         40.731152                  N            663  \n",
       "2               -74.005333         40.710087                  N           2124  \n",
       "3               -74.012268         40.706718                  N            429  \n",
       "4               -73.972923         40.782520                  N            435  \n",
       "...                    ...               ...                ...            ...  \n",
       "1458639         -73.994911         40.740170                  N            778  \n",
       "1458640         -73.970184         40.796547                  N            655  \n",
       "1458641         -74.004433         40.707371                  N            764  \n",
       "1458642         -73.974632         40.757107                  N            373  \n",
       "1458643         -73.972809         40.790585                  N            198  \n",
       "\n",
       "[1458644 rows x 11 columns]"
      ]
     },
     "execution_count": 3,
     "metadata": {},
     "output_type": "execute_result"
    }
   ],
   "source": [
    "train_df"
   ]
  },
  {
   "cell_type": "code",
   "execution_count": 4,
   "metadata": {
    "execution": {
     "iopub.execute_input": "2025-04-28T01:20:27.919018Z",
     "iopub.status.busy": "2025-04-28T01:20:27.918705Z",
     "iopub.status.idle": "2025-04-28T01:20:27.933023Z",
     "shell.execute_reply": "2025-04-28T01:20:27.931953Z",
     "shell.execute_reply.started": "2025-04-28T01:20:27.918994Z"
    },
    "trusted": true
   },
   "outputs": [
    {
     "data": {
      "text/html": [
       "<div>\n",
       "<style scoped>\n",
       "    .dataframe tbody tr th:only-of-type {\n",
       "        vertical-align: middle;\n",
       "    }\n",
       "\n",
       "    .dataframe tbody tr th {\n",
       "        vertical-align: top;\n",
       "    }\n",
       "\n",
       "    .dataframe thead th {\n",
       "        text-align: right;\n",
       "    }\n",
       "</style>\n",
       "<table border=\"1\" class=\"dataframe\">\n",
       "  <thead>\n",
       "    <tr style=\"text-align: right;\">\n",
       "      <th></th>\n",
       "      <th>id</th>\n",
       "      <th>vendor_id</th>\n",
       "      <th>pickup_datetime</th>\n",
       "      <th>passenger_count</th>\n",
       "      <th>pickup_longitude</th>\n",
       "      <th>pickup_latitude</th>\n",
       "      <th>dropoff_longitude</th>\n",
       "      <th>dropoff_latitude</th>\n",
       "      <th>store_and_fwd_flag</th>\n",
       "    </tr>\n",
       "  </thead>\n",
       "  <tbody>\n",
       "    <tr>\n",
       "      <th>0</th>\n",
       "      <td>id3004672</td>\n",
       "      <td>1</td>\n",
       "      <td>2016-06-30 23:59:58</td>\n",
       "      <td>1</td>\n",
       "      <td>-73.988129</td>\n",
       "      <td>40.732029</td>\n",
       "      <td>-73.990173</td>\n",
       "      <td>40.756680</td>\n",
       "      <td>N</td>\n",
       "    </tr>\n",
       "    <tr>\n",
       "      <th>1</th>\n",
       "      <td>id3505355</td>\n",
       "      <td>1</td>\n",
       "      <td>2016-06-30 23:59:53</td>\n",
       "      <td>1</td>\n",
       "      <td>-73.964203</td>\n",
       "      <td>40.679993</td>\n",
       "      <td>-73.959808</td>\n",
       "      <td>40.655403</td>\n",
       "      <td>N</td>\n",
       "    </tr>\n",
       "    <tr>\n",
       "      <th>2</th>\n",
       "      <td>id1217141</td>\n",
       "      <td>1</td>\n",
       "      <td>2016-06-30 23:59:47</td>\n",
       "      <td>1</td>\n",
       "      <td>-73.997437</td>\n",
       "      <td>40.737583</td>\n",
       "      <td>-73.986160</td>\n",
       "      <td>40.729523</td>\n",
       "      <td>N</td>\n",
       "    </tr>\n",
       "    <tr>\n",
       "      <th>3</th>\n",
       "      <td>id2150126</td>\n",
       "      <td>2</td>\n",
       "      <td>2016-06-30 23:59:41</td>\n",
       "      <td>1</td>\n",
       "      <td>-73.956070</td>\n",
       "      <td>40.771900</td>\n",
       "      <td>-73.986427</td>\n",
       "      <td>40.730469</td>\n",
       "      <td>N</td>\n",
       "    </tr>\n",
       "    <tr>\n",
       "      <th>4</th>\n",
       "      <td>id1598245</td>\n",
       "      <td>1</td>\n",
       "      <td>2016-06-30 23:59:33</td>\n",
       "      <td>1</td>\n",
       "      <td>-73.970215</td>\n",
       "      <td>40.761475</td>\n",
       "      <td>-73.961510</td>\n",
       "      <td>40.755890</td>\n",
       "      <td>N</td>\n",
       "    </tr>\n",
       "    <tr>\n",
       "      <th>...</th>\n",
       "      <td>...</td>\n",
       "      <td>...</td>\n",
       "      <td>...</td>\n",
       "      <td>...</td>\n",
       "      <td>...</td>\n",
       "      <td>...</td>\n",
       "      <td>...</td>\n",
       "      <td>...</td>\n",
       "      <td>...</td>\n",
       "    </tr>\n",
       "    <tr>\n",
       "      <th>625129</th>\n",
       "      <td>id3008929</td>\n",
       "      <td>1</td>\n",
       "      <td>2016-01-01 00:02:52</td>\n",
       "      <td>1</td>\n",
       "      <td>-74.003464</td>\n",
       "      <td>40.725105</td>\n",
       "      <td>-74.001251</td>\n",
       "      <td>40.733643</td>\n",
       "      <td>N</td>\n",
       "    </tr>\n",
       "    <tr>\n",
       "      <th>625130</th>\n",
       "      <td>id3700764</td>\n",
       "      <td>1</td>\n",
       "      <td>2016-01-01 00:01:52</td>\n",
       "      <td>1</td>\n",
       "      <td>-74.006363</td>\n",
       "      <td>40.743782</td>\n",
       "      <td>-73.953407</td>\n",
       "      <td>40.782467</td>\n",
       "      <td>N</td>\n",
       "    </tr>\n",
       "    <tr>\n",
       "      <th>625131</th>\n",
       "      <td>id2568735</td>\n",
       "      <td>1</td>\n",
       "      <td>2016-01-01 00:01:24</td>\n",
       "      <td>2</td>\n",
       "      <td>-73.972267</td>\n",
       "      <td>40.759865</td>\n",
       "      <td>-73.876602</td>\n",
       "      <td>40.748665</td>\n",
       "      <td>N</td>\n",
       "    </tr>\n",
       "    <tr>\n",
       "      <th>625132</th>\n",
       "      <td>id1384355</td>\n",
       "      <td>1</td>\n",
       "      <td>2016-01-01 00:00:28</td>\n",
       "      <td>1</td>\n",
       "      <td>-73.976501</td>\n",
       "      <td>40.733562</td>\n",
       "      <td>-73.854263</td>\n",
       "      <td>40.891788</td>\n",
       "      <td>N</td>\n",
       "    </tr>\n",
       "    <tr>\n",
       "      <th>625133</th>\n",
       "      <td>id0621643</td>\n",
       "      <td>2</td>\n",
       "      <td>2016-01-01 00:00:22</td>\n",
       "      <td>2</td>\n",
       "      <td>-73.981850</td>\n",
       "      <td>40.716881</td>\n",
       "      <td>-73.969330</td>\n",
       "      <td>40.769379</td>\n",
       "      <td>N</td>\n",
       "    </tr>\n",
       "  </tbody>\n",
       "</table>\n",
       "<p>625134 rows × 9 columns</p>\n",
       "</div>"
      ],
      "text/plain": [
       "               id  vendor_id      pickup_datetime  passenger_count  \\\n",
       "0       id3004672          1  2016-06-30 23:59:58                1   \n",
       "1       id3505355          1  2016-06-30 23:59:53                1   \n",
       "2       id1217141          1  2016-06-30 23:59:47                1   \n",
       "3       id2150126          2  2016-06-30 23:59:41                1   \n",
       "4       id1598245          1  2016-06-30 23:59:33                1   \n",
       "...           ...        ...                  ...              ...   \n",
       "625129  id3008929          1  2016-01-01 00:02:52                1   \n",
       "625130  id3700764          1  2016-01-01 00:01:52                1   \n",
       "625131  id2568735          1  2016-01-01 00:01:24                2   \n",
       "625132  id1384355          1  2016-01-01 00:00:28                1   \n",
       "625133  id0621643          2  2016-01-01 00:00:22                2   \n",
       "\n",
       "        pickup_longitude  pickup_latitude  dropoff_longitude  \\\n",
       "0             -73.988129        40.732029         -73.990173   \n",
       "1             -73.964203        40.679993         -73.959808   \n",
       "2             -73.997437        40.737583         -73.986160   \n",
       "3             -73.956070        40.771900         -73.986427   \n",
       "4             -73.970215        40.761475         -73.961510   \n",
       "...                  ...              ...                ...   \n",
       "625129        -74.003464        40.725105         -74.001251   \n",
       "625130        -74.006363        40.743782         -73.953407   \n",
       "625131        -73.972267        40.759865         -73.876602   \n",
       "625132        -73.976501        40.733562         -73.854263   \n",
       "625133        -73.981850        40.716881         -73.969330   \n",
       "\n",
       "        dropoff_latitude store_and_fwd_flag  \n",
       "0              40.756680                  N  \n",
       "1              40.655403                  N  \n",
       "2              40.729523                  N  \n",
       "3              40.730469                  N  \n",
       "4              40.755890                  N  \n",
       "...                  ...                ...  \n",
       "625129         40.733643                  N  \n",
       "625130         40.782467                  N  \n",
       "625131         40.748665                  N  \n",
       "625132         40.891788                  N  \n",
       "625133         40.769379                  N  \n",
       "\n",
       "[625134 rows x 9 columns]"
      ]
     },
     "execution_count": 4,
     "metadata": {},
     "output_type": "execute_result"
    }
   ],
   "source": [
    "test_df"
   ]
  },
  {
   "cell_type": "code",
   "execution_count": 5,
   "metadata": {
    "execution": {
     "iopub.execute_input": "2025-04-28T01:20:32.648037Z",
     "iopub.status.busy": "2025-04-28T01:20:32.647733Z",
     "iopub.status.idle": "2025-04-28T01:20:32.660105Z",
     "shell.execute_reply": "2025-04-28T01:20:32.65912Z",
     "shell.execute_reply.started": "2025-04-28T01:20:32.648014Z"
    },
    "trusted": true
   },
   "outputs": [
    {
     "data": {
      "text/html": [
       "<div>\n",
       "<style scoped>\n",
       "    .dataframe tbody tr th:only-of-type {\n",
       "        vertical-align: middle;\n",
       "    }\n",
       "\n",
       "    .dataframe tbody tr th {\n",
       "        vertical-align: top;\n",
       "    }\n",
       "\n",
       "    .dataframe thead th {\n",
       "        text-align: right;\n",
       "    }\n",
       "</style>\n",
       "<table border=\"1\" class=\"dataframe\">\n",
       "  <thead>\n",
       "    <tr style=\"text-align: right;\">\n",
       "      <th></th>\n",
       "      <th>id</th>\n",
       "      <th>trip_duration</th>\n",
       "    </tr>\n",
       "  </thead>\n",
       "  <tbody>\n",
       "    <tr>\n",
       "      <th>0</th>\n",
       "      <td>id3004672</td>\n",
       "      <td>959</td>\n",
       "    </tr>\n",
       "    <tr>\n",
       "      <th>1</th>\n",
       "      <td>id3505355</td>\n",
       "      <td>959</td>\n",
       "    </tr>\n",
       "    <tr>\n",
       "      <th>2</th>\n",
       "      <td>id1217141</td>\n",
       "      <td>959</td>\n",
       "    </tr>\n",
       "    <tr>\n",
       "      <th>3</th>\n",
       "      <td>id2150126</td>\n",
       "      <td>959</td>\n",
       "    </tr>\n",
       "    <tr>\n",
       "      <th>4</th>\n",
       "      <td>id1598245</td>\n",
       "      <td>959</td>\n",
       "    </tr>\n",
       "    <tr>\n",
       "      <th>...</th>\n",
       "      <td>...</td>\n",
       "      <td>...</td>\n",
       "    </tr>\n",
       "    <tr>\n",
       "      <th>625129</th>\n",
       "      <td>id3008929</td>\n",
       "      <td>959</td>\n",
       "    </tr>\n",
       "    <tr>\n",
       "      <th>625130</th>\n",
       "      <td>id3700764</td>\n",
       "      <td>959</td>\n",
       "    </tr>\n",
       "    <tr>\n",
       "      <th>625131</th>\n",
       "      <td>id2568735</td>\n",
       "      <td>959</td>\n",
       "    </tr>\n",
       "    <tr>\n",
       "      <th>625132</th>\n",
       "      <td>id1384355</td>\n",
       "      <td>959</td>\n",
       "    </tr>\n",
       "    <tr>\n",
       "      <th>625133</th>\n",
       "      <td>id0621643</td>\n",
       "      <td>959</td>\n",
       "    </tr>\n",
       "  </tbody>\n",
       "</table>\n",
       "<p>625134 rows × 2 columns</p>\n",
       "</div>"
      ],
      "text/plain": [
       "               id  trip_duration\n",
       "0       id3004672            959\n",
       "1       id3505355            959\n",
       "2       id1217141            959\n",
       "3       id2150126            959\n",
       "4       id1598245            959\n",
       "...           ...            ...\n",
       "625129  id3008929            959\n",
       "625130  id3700764            959\n",
       "625131  id2568735            959\n",
       "625132  id1384355            959\n",
       "625133  id0621643            959\n",
       "\n",
       "[625134 rows x 2 columns]"
      ]
     },
     "execution_count": 5,
     "metadata": {},
     "output_type": "execute_result"
    }
   ],
   "source": [
    "sample_submission_df"
   ]
  },
  {
   "cell_type": "code",
   "execution_count": 4,
   "metadata": {
    "execution": {
     "iopub.execute_input": "2025-04-28T21:54:46.61667Z",
     "iopub.status.busy": "2025-04-28T21:54:46.616372Z",
     "iopub.status.idle": "2025-04-28T21:54:47.137385Z",
     "shell.execute_reply": "2025-04-28T21:54:47.136377Z",
     "shell.execute_reply.started": "2025-04-28T21:54:46.616647Z"
    },
    "trusted": true
   },
   "outputs": [
    {
     "name": "stdout",
     "output_type": "stream",
     "text": [
      "id                    0\n",
      "vendor_id             0\n",
      "pickup_datetime       0\n",
      "dropoff_datetime      0\n",
      "passenger_count       0\n",
      "pickup_longitude      0\n",
      "pickup_latitude       0\n",
      "dropoff_longitude     0\n",
      "dropoff_latitude      0\n",
      "store_and_fwd_flag    0\n",
      "trip_duration         0\n",
      "dtype: int64\n",
      "id                    0\n",
      "vendor_id             0\n",
      "pickup_datetime       0\n",
      "passenger_count       0\n",
      "pickup_longitude      0\n",
      "pickup_latitude       0\n",
      "dropoff_longitude     0\n",
      "dropoff_latitude      0\n",
      "store_and_fwd_flag    0\n",
      "dtype: int64\n"
     ]
    }
   ],
   "source": [
    "print(train_df.isnull().sum())\n",
    "print(test_df.isnull().sum())"
   ]
  },
  {
   "cell_type": "code",
   "execution_count": 7,
   "metadata": {
    "execution": {
     "iopub.execute_input": "2025-04-28T01:20:43.843815Z",
     "iopub.status.busy": "2025-04-28T01:20:43.843489Z",
     "iopub.status.idle": "2025-04-28T01:20:45.952447Z",
     "shell.execute_reply": "2025-04-28T01:20:45.951638Z",
     "shell.execute_reply.started": "2025-04-28T01:20:43.843794Z"
    },
    "trusted": true
   },
   "outputs": [
    {
     "name": "stdout",
     "output_type": "stream",
     "text": [
      "0\n",
      "0\n"
     ]
    }
   ],
   "source": [
    "print(train_df.duplicated().sum())\n",
    "print(test_df.duplicated().sum())"
   ]
  },
  {
   "cell_type": "code",
   "execution_count": 8,
   "metadata": {
    "execution": {
     "iopub.execute_input": "2025-04-28T01:20:50.355009Z",
     "iopub.status.busy": "2025-04-28T01:20:50.354678Z",
     "iopub.status.idle": "2025-04-28T01:20:50.361815Z",
     "shell.execute_reply": "2025-04-28T01:20:50.361002Z",
     "shell.execute_reply.started": "2025-04-28T01:20:50.354983Z"
    },
    "trusted": true
   },
   "outputs": [
    {
     "data": {
      "text/plain": [
       "id                     object\n",
       "vendor_id               int64\n",
       "pickup_datetime        object\n",
       "dropoff_datetime       object\n",
       "passenger_count         int64\n",
       "pickup_longitude      float64\n",
       "pickup_latitude       float64\n",
       "dropoff_longitude     float64\n",
       "dropoff_latitude      float64\n",
       "store_and_fwd_flag     object\n",
       "trip_duration           int64\n",
       "dtype: object"
      ]
     },
     "execution_count": 8,
     "metadata": {},
     "output_type": "execute_result"
    }
   ],
   "source": [
    "train_df.dtypes"
   ]
  },
  {
   "cell_type": "code",
   "execution_count": null,
   "metadata": {},
   "outputs": [],
   "source": [
    "train_rf_df = train_df.copy()\n",
    "test_rf_df = test_df.copy()"
   ]
  },
  {
   "cell_type": "code",
   "execution_count": null,
   "metadata": {
    "execution": {
     "iopub.execute_input": "2025-04-29T20:38:31.254604Z",
     "iopub.status.busy": "2025-04-29T20:38:31.254291Z",
     "iopub.status.idle": "2025-04-29T20:38:32.011949Z",
     "shell.execute_reply": "2025-04-29T20:38:32.010952Z",
     "shell.execute_reply.started": "2025-04-29T20:38:31.254584Z"
    },
    "trusted": true
   },
   "outputs": [],
   "source": [
    "#Obtain the day of the week and the hour of pickup from the train data\n",
    "train_rf_df['pickup_datetime'] = pd.to_datetime(train_rf_df['pickup_datetime'], format='%Y-%m-%d %H:%M:%S')\n",
    "train_rf_df['pickup_week'] = train_rf_df['pickup_datetime'].dt.day_name()\n",
    "train_rf_df['pickup_hour'] = train_rf_df['pickup_datetime'].dt.hour\n",
    "#Obtain the day of the week and the hour of pickup from the test data\n",
    "test_rf_df['pickup_datetime'] = pd.to_datetime(test_rf_df['pickup_datetime'], format='%Y-%m-%d %H:%M:%S')\n",
    "test_rf_df['pickup_week'] = test_rf_df['pickup_datetime'].dt.day_name()\n",
    "test_rf_df['pickup_hour'] = test_rf_df['pickup_datetime'].dt.hour"
   ]
  },
  {
   "cell_type": "code",
   "execution_count": 5,
   "metadata": {
    "execution": {
     "iopub.execute_input": "2025-04-29T20:38:36.222475Z",
     "iopub.status.busy": "2025-04-29T20:38:36.222216Z",
     "iopub.status.idle": "2025-04-29T20:38:36.227227Z",
     "shell.execute_reply": "2025-04-29T20:38:36.22649Z",
     "shell.execute_reply.started": "2025-04-29T20:38:36.222457Z"
    },
    "trusted": true
   },
   "outputs": [],
   "source": [
    "def haversine_np(lat1, lon1, lat2, lon2):\n",
    "    R = 6371.0\n",
    "    q = np.radians(lat1)\n",
    "    w = np.radians(lat2)\n",
    "    e = np.radians(lat2 - lat1)\n",
    "    r = np.radians(lon2 - lon1)\n",
    "    \n",
    "    a = np.sin(e/2.0)**2 + np.cos(q) * np.cos(w) * np.sin(r/2.0)**2\n",
    "    c = 2 * np.arcsin(np.sqrt(a))\n",
    "    return R * c"
   ]
  },
  {
   "cell_type": "code",
   "execution_count": null,
   "metadata": {
    "execution": {
     "iopub.execute_input": "2025-04-29T20:38:42.307372Z",
     "iopub.status.busy": "2025-04-29T20:38:42.307086Z",
     "iopub.status.idle": "2025-04-29T20:38:42.435929Z",
     "shell.execute_reply": "2025-04-29T20:38:42.435291Z",
     "shell.execute_reply.started": "2025-04-29T20:38:42.307351Z"
    },
    "trusted": true
   },
   "outputs": [],
   "source": [
    "#Get the distace from point to point\n",
    "train_rf_df['distance_km'] = haversine_np(train_rf_df['pickup_latitude'],\n",
    "    train_rf_df['pickup_longitude'],\n",
    "    train_rf_df['dropoff_latitude'],\n",
    "    train_rf_df['dropoff_longitude'])\n",
    "#Get the distace from point to point\n",
    "test_rf_df['distance_km'] = haversine_np(test_rf_df['pickup_latitude'],\n",
    "    test_rf_df['pickup_longitude'],\n",
    "    test_rf_df['dropoff_latitude'],\n",
    "    test_rf_df['dropoff_longitude'])"
   ]
  },
  {
   "cell_type": "code",
   "execution_count": null,
   "metadata": {
    "execution": {
     "iopub.execute_input": "2025-04-28T21:55:12.324198Z",
     "iopub.status.busy": "2025-04-28T21:55:12.323473Z",
     "iopub.status.idle": "2025-04-28T21:55:12.337159Z",
     "shell.execute_reply": "2025-04-28T21:55:12.336249Z",
     "shell.execute_reply.started": "2025-04-28T21:55:12.324168Z"
    },
    "trusted": true
   },
   "outputs": [
    {
     "data": {
      "text/html": [
       "<div>\n",
       "<style scoped>\n",
       "    .dataframe tbody tr th:only-of-type {\n",
       "        vertical-align: middle;\n",
       "    }\n",
       "\n",
       "    .dataframe tbody tr th {\n",
       "        vertical-align: top;\n",
       "    }\n",
       "\n",
       "    .dataframe thead th {\n",
       "        text-align: right;\n",
       "    }\n",
       "</style>\n",
       "<table border=\"1\" class=\"dataframe\">\n",
       "  <thead>\n",
       "    <tr style=\"text-align: right;\">\n",
       "      <th></th>\n",
       "      <th>id</th>\n",
       "      <th>vendor_id</th>\n",
       "      <th>pickup_datetime</th>\n",
       "      <th>passenger_count</th>\n",
       "      <th>pickup_longitude</th>\n",
       "      <th>pickup_latitude</th>\n",
       "      <th>dropoff_longitude</th>\n",
       "      <th>dropoff_latitude</th>\n",
       "      <th>store_and_fwd_flag</th>\n",
       "      <th>pickup_week</th>\n",
       "      <th>pickup_hour</th>\n",
       "      <th>distance_km</th>\n",
       "    </tr>\n",
       "  </thead>\n",
       "  <tbody>\n",
       "    <tr>\n",
       "      <th>0</th>\n",
       "      <td>id3004672</td>\n",
       "      <td>1</td>\n",
       "      <td>2016-06-30 23:59:58</td>\n",
       "      <td>1</td>\n",
       "      <td>-73.988129</td>\n",
       "      <td>40.732029</td>\n",
       "      <td>-73.990173</td>\n",
       "      <td>40.756680</td>\n",
       "      <td>N</td>\n",
       "      <td>Thursday</td>\n",
       "      <td>23</td>\n",
       "      <td>2.746426</td>\n",
       "    </tr>\n",
       "    <tr>\n",
       "      <th>1</th>\n",
       "      <td>id3505355</td>\n",
       "      <td>1</td>\n",
       "      <td>2016-06-30 23:59:53</td>\n",
       "      <td>1</td>\n",
       "      <td>-73.964203</td>\n",
       "      <td>40.679993</td>\n",
       "      <td>-73.959808</td>\n",
       "      <td>40.655403</td>\n",
       "      <td>N</td>\n",
       "      <td>Thursday</td>\n",
       "      <td>23</td>\n",
       "      <td>2.759239</td>\n",
       "    </tr>\n",
       "    <tr>\n",
       "      <th>2</th>\n",
       "      <td>id1217141</td>\n",
       "      <td>1</td>\n",
       "      <td>2016-06-30 23:59:47</td>\n",
       "      <td>1</td>\n",
       "      <td>-73.997437</td>\n",
       "      <td>40.737583</td>\n",
       "      <td>-73.986160</td>\n",
       "      <td>40.729523</td>\n",
       "      <td>N</td>\n",
       "      <td>Thursday</td>\n",
       "      <td>23</td>\n",
       "      <td>1.306155</td>\n",
       "    </tr>\n",
       "    <tr>\n",
       "      <th>3</th>\n",
       "      <td>id2150126</td>\n",
       "      <td>2</td>\n",
       "      <td>2016-06-30 23:59:41</td>\n",
       "      <td>1</td>\n",
       "      <td>-73.956070</td>\n",
       "      <td>40.771900</td>\n",
       "      <td>-73.986427</td>\n",
       "      <td>40.730469</td>\n",
       "      <td>N</td>\n",
       "      <td>Thursday</td>\n",
       "      <td>23</td>\n",
       "      <td>5.269088</td>\n",
       "    </tr>\n",
       "    <tr>\n",
       "      <th>4</th>\n",
       "      <td>id1598245</td>\n",
       "      <td>1</td>\n",
       "      <td>2016-06-30 23:59:33</td>\n",
       "      <td>1</td>\n",
       "      <td>-73.970215</td>\n",
       "      <td>40.761475</td>\n",
       "      <td>-73.961510</td>\n",
       "      <td>40.755890</td>\n",
       "      <td>N</td>\n",
       "      <td>Thursday</td>\n",
       "      <td>23</td>\n",
       "      <td>0.960842</td>\n",
       "    </tr>\n",
       "  </tbody>\n",
       "</table>\n",
       "</div>"
      ],
      "text/plain": [
       "          id  vendor_id     pickup_datetime  passenger_count  \\\n",
       "0  id3004672          1 2016-06-30 23:59:58                1   \n",
       "1  id3505355          1 2016-06-30 23:59:53                1   \n",
       "2  id1217141          1 2016-06-30 23:59:47                1   \n",
       "3  id2150126          2 2016-06-30 23:59:41                1   \n",
       "4  id1598245          1 2016-06-30 23:59:33                1   \n",
       "\n",
       "   pickup_longitude  pickup_latitude  dropoff_longitude  dropoff_latitude  \\\n",
       "0        -73.988129        40.732029         -73.990173         40.756680   \n",
       "1        -73.964203        40.679993         -73.959808         40.655403   \n",
       "2        -73.997437        40.737583         -73.986160         40.729523   \n",
       "3        -73.956070        40.771900         -73.986427         40.730469   \n",
       "4        -73.970215        40.761475         -73.961510         40.755890   \n",
       "\n",
       "  store_and_fwd_flag pickup_week  pickup_hour  distance_km  \n",
       "0                  N    Thursday           23     2.746426  \n",
       "1                  N    Thursday           23     2.759239  \n",
       "2                  N    Thursday           23     1.306155  \n",
       "3                  N    Thursday           23     5.269088  \n",
       "4                  N    Thursday           23     0.960842  "
      ]
     },
     "execution_count": 8,
     "metadata": {},
     "output_type": "execute_result"
    }
   ],
   "source": [
    "train_rf_df.head()\n",
    "test_rf_df.head()"
   ]
  },
  {
   "cell_type": "code",
   "execution_count": null,
   "metadata": {
    "execution": {
     "iopub.execute_input": "2025-04-28T21:56:30.881583Z",
     "iopub.status.busy": "2025-04-28T21:56:30.88071Z",
     "iopub.status.idle": "2025-04-28T21:56:30.887824Z",
     "shell.execute_reply": "2025-04-28T21:56:30.886922Z",
     "shell.execute_reply.started": "2025-04-28T21:56:30.881555Z"
    },
    "trusted": true
   },
   "outputs": [
    {
     "name": "stdout",
     "output_type": "stream",
     "text": [
      "id                            object\n",
      "vendor_id                      int64\n",
      "pickup_datetime       datetime64[ns]\n",
      "dropoff_datetime              object\n",
      "passenger_count                int64\n",
      "pickup_longitude             float64\n",
      "pickup_latitude              float64\n",
      "dropoff_longitude            float64\n",
      "dropoff_latitude             float64\n",
      "store_and_fwd_flag            object\n",
      "trip_duration                  int64\n",
      "pickup_week                   object\n",
      "pickup_hour                    int32\n",
      "distance_km                  float64\n",
      "dtype: object\n",
      "id                            object\n",
      "vendor_id                      int64\n",
      "pickup_datetime       datetime64[ns]\n",
      "passenger_count                int64\n",
      "pickup_longitude             float64\n",
      "pickup_latitude              float64\n",
      "dropoff_longitude            float64\n",
      "dropoff_latitude             float64\n",
      "store_and_fwd_flag            object\n",
      "pickup_week                   object\n",
      "pickup_hour                    int32\n",
      "distance_km                  float64\n",
      "dtype: object\n"
     ]
    }
   ],
   "source": [
    "#Observe datatype of the columns\n",
    "print(train_rf_df.dtypes)\n",
    "print(test_rf_df.dtypes)"
   ]
  },
  {
   "cell_type": "code",
   "execution_count": 8,
   "metadata": {
    "execution": {
     "iopub.execute_input": "2025-04-29T20:38:58.478337Z",
     "iopub.status.busy": "2025-04-29T20:38:58.478054Z",
     "iopub.status.idle": "2025-04-29T20:38:58.482883Z",
     "shell.execute_reply": "2025-04-29T20:38:58.481754Z",
     "shell.execute_reply.started": "2025-04-29T20:38:58.478317Z"
    },
    "trusted": true
   },
   "outputs": [],
   "source": [
    "#Define the independent variables in categories \n",
    "cat_cols = ['vendor_id', 'store_and_fwd_flag', 'pickup_week']\n",
    "num_cols   = ['passenger_count','pickup_longitude', 'pickup_latitude','dropoff_longitude', 'dropoff_latitude','pickup_hour', 'distance_km']"
   ]
  },
  {
   "cell_type": "code",
   "execution_count": null,
   "metadata": {
    "execution": {
     "iopub.execute_input": "2025-04-29T20:39:03.371085Z",
     "iopub.status.busy": "2025-04-29T20:39:03.370369Z",
     "iopub.status.idle": "2025-04-29T20:39:03.386172Z",
     "shell.execute_reply": "2025-04-29T20:39:03.385335Z",
     "shell.execute_reply.started": "2025-04-29T20:39:03.371062Z"
    },
    "trusted": true
   },
   "outputs": [],
   "source": [
    "\n",
    "train_rf_df['log_trip_duration'] = np.log1p(train_rf_df['trip_duration'])"
   ]
  },
  {
   "cell_type": "code",
   "execution_count": null,
   "metadata": {
    "execution": {
     "iopub.execute_input": "2025-04-29T20:39:24.074726Z",
     "iopub.status.busy": "2025-04-29T20:39:24.074458Z",
     "iopub.status.idle": "2025-04-29T20:39:24.537766Z",
     "shell.execute_reply": "2025-04-29T20:39:24.537026Z",
     "shell.execute_reply.started": "2025-04-29T20:39:24.074709Z"
    },
    "trusted": true
   },
   "outputs": [],
   "source": [
    "X = train_rf_df[num_cols + cat_cols]\n",
    "y = train_rf_df['log_trip_duration']\n",
    "X_test  = test_rf_df[num_cols + cat_cols]\n",
    "x_train,x_val,y_train,y_val = train_test_split(X, y, test_size=0.2, random_state=42, shuffle=True)"
   ]
  },
  {
   "cell_type": "code",
   "execution_count": 11,
   "metadata": {
    "execution": {
     "iopub.execute_input": "2025-04-29T20:39:30.274082Z",
     "iopub.status.busy": "2025-04-29T20:39:30.273855Z",
     "iopub.status.idle": "2025-04-29T20:39:30.27783Z",
     "shell.execute_reply": "2025-04-29T20:39:30.277223Z",
     "shell.execute_reply.started": "2025-04-29T20:39:30.274068Z"
    },
    "trusted": true
   },
   "outputs": [],
   "source": [
    "#Set up a preprocessing pipeline\n",
    "preprocessor = ColumnTransformer(transformers=[ ('num', StandardScaler(), num_cols),('cat', OneHotEncoder(handle_unknown='ignore', sparse=False), cat_cols)])"
   ]
  },
  {
   "cell_type": "code",
   "execution_count": 12,
   "metadata": {
    "execution": {
     "iopub.execute_input": "2025-04-29T20:39:33.690352Z",
     "iopub.status.busy": "2025-04-29T20:39:33.690099Z",
     "iopub.status.idle": "2025-04-29T20:39:35.174911Z",
     "shell.execute_reply": "2025-04-29T20:39:35.173897Z",
     "shell.execute_reply.started": "2025-04-29T20:39:33.690334Z"
    },
    "trusted": true
   },
   "outputs": [
    {
     "name": "stderr",
     "output_type": "stream",
     "text": [
      "/usr/local/lib/python3.11/dist-packages/sklearn/preprocessing/_encoders.py:868: FutureWarning: `sparse` was renamed to `sparse_output` in version 1.2 and will be removed in 1.4. `sparse_output` is ignored unless you leave `sparse` to its default value.\n",
      "  warnings.warn(\n"
     ]
    }
   ],
   "source": [
    "X_train_proc = preprocessor.fit_transform(x_train)\n",
    "X_test_proc  = preprocessor.transform(x_val)\n"
   ]
  },
  {
   "cell_type": "code",
   "execution_count": 13,
   "metadata": {
    "execution": {
     "iopub.execute_input": "2025-04-29T20:39:41.274121Z",
     "iopub.status.busy": "2025-04-29T20:39:41.273378Z",
     "iopub.status.idle": "2025-04-29T20:50:06.752325Z",
     "shell.execute_reply": "2025-04-29T20:50:06.751585Z",
     "shell.execute_reply.started": "2025-04-29T20:39:41.274101Z"
    },
    "trusted": true
   },
   "outputs": [],
   "source": [
    "RF = RandomForestRegressor(n_estimators=50, random_state=42)\n",
    "RF.fit(X_train_proc, y_train)\n",
    "P_RF = RF.predict(X_test_proc)\n",
    "\n"
   ]
  },
  {
   "cell_type": "code",
   "execution_count": 15,
   "metadata": {
    "execution": {
     "iopub.execute_input": "2025-04-29T20:52:27.832912Z",
     "iopub.status.busy": "2025-04-29T20:52:27.832674Z",
     "iopub.status.idle": "2025-04-29T20:52:27.857784Z",
     "shell.execute_reply": "2025-04-29T20:52:27.857021Z",
     "shell.execute_reply.started": "2025-04-29T20:52:27.832895Z"
    },
    "trusted": true
   },
   "outputs": [
    {
     "name": "stdout",
     "output_type": "stream",
     "text": [
      "MSE (Actual value): 10255484.6966\n",
      "MAPE   : 0.0428\n",
      "MedianAE: 0.1875\n",
      "R2     : 0.7355\n",
      "ExplVar: 0.7356\n",
      "rmsle  : 0.4097\n"
     ]
    }
   ],
   "source": [
    "metrics = {\n",
    "    'MSE (Actual value)'      : mean_squared_error(np.expm1(y_val), np.expm1(P_RF)),\n",
    "    'MAPE'     : mean_absolute_percentage_error(y_val, P_RF),\n",
    "    'MedianAE' : median_absolute_error(y_val, P_RF),\n",
    "    'R2'       : r2_score(y_val, P_RF),\n",
    "    'ExplVar'  : explained_variance_score(y_val, P_RF),\n",
    "    \"rmsle\" : np.sqrt(mean_squared_error(y_val, P_RF ))\n",
    "}\n",
    "for name, val in metrics.items():\n",
    "    print(f\"{name:7s}: {val:.4f}\")"
   ]
  }
 ],
 "metadata": {
  "kaggle": {
   "accelerator": "none",
   "dataSources": [
    {
     "databundleVersionId": 44258,
     "sourceId": 6960,
     "sourceType": "competition"
    }
   ],
   "dockerImageVersionId": 31012,
   "isGpuEnabled": false,
   "isInternetEnabled": false,
   "language": "python",
   "sourceType": "notebook"
  },
  "kernelspec": {
   "display_name": "Python 3",
   "language": "python",
   "name": "python3"
  },
  "language_info": {
   "codemirror_mode": {
    "name": "ipython",
    "version": 3
   },
   "file_extension": ".py",
   "mimetype": "text/x-python",
   "name": "python",
   "nbconvert_exporter": "python",
   "pygments_lexer": "ipython3",
   "version": "3.11.11"
  }
 },
 "nbformat": 4,
 "nbformat_minor": 4
}

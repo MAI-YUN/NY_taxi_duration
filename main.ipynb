{
 "cells": [
  {
   "cell_type": "markdown",
   "metadata": {},
   "source": [
    "<a href=\"https://www.kaggle.com/code/tayen1/nyc-taxi-duration?scriptVersionId=235737872\" target=\"_blank\"><img align=\"left\" alt=\"Kaggle\" title=\"Open in Kaggle\" src=\"https://kaggle.com/static/images/open-in-kaggle.svg\"></a>"
   ]
  },
  {
   "cell_type": "markdown",
   "metadata": {},
   "source": [
    "<a href=\"https://www.kaggle.com/code/tayen1/nyc-taxi-duration?scriptVersionId=235734476\" target=\"_blank\"><img align=\"left\" alt=\"Kaggle\" title=\"Open in Kaggle\" src=\"https://kaggle.com/static/images/open-in-kaggle.svg\"></a>"
   ]
  },
  {
   "cell_type": "code",
   "execution_count": null,
   "metadata": {
    "_cell_guid": "b1076dfc-b9ad-4769-8c92-a6c4dae69d19",
    "_uuid": "8f2839f25d086af736a60e9eeb907d3b93b6e0e5",
    "execution": {
     "iopub.execute_input": "2025-04-23T21:34:52.352986Z",
     "iopub.status.busy": "2025-04-23T21:34:52.352605Z",
     "iopub.status.idle": "2025-04-23T21:34:54.655386Z",
     "shell.execute_reply": "2025-04-23T21:34:54.654303Z",
     "shell.execute_reply.started": "2025-04-23T21:34:52.352957Z"
    },
    "trusted": true
   },
   "outputs": [
    {
     "name": "stdout",
     "output_type": "stream",
     "text": [
      "/kaggle/input/nyc-taxi-trip-duration/train.zip\n",
      "/kaggle/input/nyc-taxi-trip-duration/test.zip\n",
      "/kaggle/input/nyc-taxi-trip-duration/sample_submission.zip\n",
      "Finish unzip\n",
      "/kaggle/working/test.csv\n",
      "/kaggle/working/train.csv\n",
      "/kaggle/working/sample_submission.csv\n"
     ]
    }
   ],
   "source": [
    "# This Python 3 environment comes with many helpful analytics libraries installed\n",
    "# It is defined by the kaggle/python Docker image: https://github.com/kaggle/docker-python\n",
    "# For example, here's several helpful packages to load\n",
    "\n",
    "import numpy as np # linear algebra\n",
    "import pandas as pd # data processing, CSV file I/O (e.g. pd.read_csv)\n",
    "import zipfile\n",
    "\n",
    "# Input data files are available in the read-only \"../input/\" directory\n",
    "# For example, running this (by clicking run or pressing Shift+Enter) will list all files under the input directory\n",
    "\n",
    "import os\n",
    "\n",
    "output_dir = '/kaggle/working/'\n",
    "\n",
    "for dirname, _, filenames in os.walk('/kaggle/input'):\n",
    "    for filename in filenames:\n",
    "        data_path_name = os.path.join(dirname, filename)\n",
    "        print(data_path_name)\n",
    "        with zipfile.ZipFile(data_path_name, 'r') as zip_ref:\n",
    "            zip_ref.extractall(output_dir)\n",
    "\n",
    "print(\"Finish unzip\")\n",
    "\n",
    "for dirname, _, filenames in os.walk(output_dir):\n",
    "    for filename in filenames:\n",
    "        print(os.path.join(output_dir, filename))"
   ]
  },
  {
   "cell_type": "code",
   "execution_count": null,
   "metadata": {
    "trusted": true
   },
   "outputs": [],
   "source": [
    "import matplotlib.pyplot as plt\n",
    "import seaborn as sns"
   ]
  },
  {
   "cell_type": "markdown",
   "metadata": {},
   "source": [
    "# Read Data"
   ]
  },
  {
   "cell_type": "code",
   "execution_count": null,
   "metadata": {},
   "outputs": [],
   "source": [
    "test_df = pd.read_csv(\"/kaggle/working/test.csv\")\n",
    "train_df = pd.read_csv(\"/kaggle/working/train.csv\")\n",
    "sample_submission_df = pd.read_csv(\"/kaggle/working/sample_submission.csv\")"
   ]
  },
  {
   "cell_type": "markdown",
   "metadata": {},
   "source": [
    "# Data Exploration"
   ]
  },
  {
   "cell_type": "code",
   "execution_count": null,
   "metadata": {},
   "outputs": [],
   "source": [
    "train_df.shape"
   ]
  },
  {
   "cell_type": "code",
   "execution_count": null,
   "metadata": {},
   "outputs": [],
   "source": [
    "test_df.shape"
   ]
  },
  {
   "cell_type": "code",
   "execution_count": null,
   "metadata": {},
   "outputs": [],
   "source": [
    "train_df.head()"
   ]
  },
  {
   "cell_type": "code",
   "execution_count": null,
   "metadata": {},
   "outputs": [],
   "source": [
    "test_df.head()"
   ]
  },
  {
   "cell_type": "code",
   "execution_count": null,
   "metadata": {},
   "outputs": [],
   "source": [
    "train_df.info()"
   ]
  },
  {
   "cell_type": "code",
   "execution_count": null,
   "metadata": {},
   "outputs": [],
   "source": [
    "# add a column convert trip_duration sec to minutes\n",
    "train_df['trip_duration_min'] = train_df['trip_duration'] / 60"
   ]
  },
  {
   "cell_type": "code",
   "execution_count": null,
   "metadata": {},
   "outputs": [],
   "source": [
    "train_df['trip_duration_hour'] = train_df['trip_duration_min'] / 60"
   ]
  },
  {
   "cell_type": "code",
   "execution_count": null,
   "metadata": {},
   "outputs": [],
   "source": [
    "train_df.describe()"
   ]
  },
  {
   "cell_type": "markdown",
   "metadata": {},
   "source": [
    "## 1. Target Feature : trip_duration"
   ]
  },
  {
   "cell_type": "code",
   "execution_count": null,
   "metadata": {},
   "outputs": [],
   "source": [
    "trip_duration_min = train_df['trip_duration_min']\n",
    "# Create 15-minute bins (0–480 mins = 8 hours)\n",
    "bins = np.arange(0, 481, 15)\n",
    "labels = [f\"{i}-{i+15}\" for i in bins[:-1]]\n",
    "\n",
    "# Bin the data and count trips per interval\n",
    "trip_counts = pd.cut(trip_duration_min, bins=bins, labels=labels, right=False).value_counts().sort_index()\n",
    "\n",
    "# Create a summary DataFrame\n",
    "trip_stats = pd.DataFrame({\n",
    "    'Duration Interval (min)': trip_counts.index,\n",
    "    'Trip Count': trip_counts.values\n",
    "})\n",
    "\n",
    "trip_stats\n"
   ]
  },
  {
   "cell_type": "code",
   "execution_count": null,
   "metadata": {},
   "outputs": [],
   "source": [
    "plt.figure(figsize=(10, 5))\n",
    "sns.histplot(train_df['trip_duration_hour'], bins = 100,binwidth = 0.05, color='orange')\n",
    "plt.title('Trip Duration (hr)')\n",
    "plt.xlabel('Trip Duration (hr)')\n",
    "plt.ylabel('Frequency')\n",
    "plt.xlim(0,1)\n",
    "#plt.ylim(0, 20000)\n",
    "plt.show()"
   ]
  },
  {
   "cell_type": "markdown",
   "metadata": {},
   "source": [
    "Observation : In this dataset, the target variable trip_duration is measured in seconds and is highly skewed — most trips are short, but a few take several hours (or more). To better visualize and model the data, we apply a logarithmic transformation.\n",
    "\"log_duration = log(Trip Duration + 1)\""
   ]
  },
  {
   "cell_type": "code",
   "execution_count": null,
   "metadata": {},
   "outputs": [],
   "source": [
    "plt.figure(figsize=(10, 5))\n",
    "sns.histplot(np.log1p(train_df['trip_duration']), bins=100, kde=True, color='orange')\n",
    "plt.title('Log-Transformed Trip Duration')\n",
    "plt.xlabel('log(Trip Duration + 1)')\n",
    "plt.ylabel('Frequency')\n",
    "plt.show()"
   ]
  },
  {
   "cell_type": "markdown",
   "metadata": {},
   "source": [
    "Observation : log(Trip Duration Time + 1) concentrated in 5 to 8 which equal to 2.5 to 49.7 minutes.\n",
    "\n",
    " - log(Trip Duration Time + 1) = 5 = ~147 sec = ~2.5 minutes\n",
    " - log(Trip Duration Time + 1) = 6 = ~403 sec = ~6.7 minutes\n",
    " - log(Trip Duration Time + 1) = 7 = ~1096 sec = ~18.3 minutes\n",
    " - log(Trip Duration Time + 1) = 8 = ~2980 sec = ~49.7 minutes"
   ]
  },
  {
   "cell_type": "markdown",
   "metadata": {},
   "source": [
    "## 2.  Pickup Time (Hour and Day) :"
   ]
  },
  {
   "cell_type": "code",
   "execution_count": null,
   "metadata": {},
   "outputs": [],
   "source": [
    "# convert pickup_datetime to datetime\n",
    "train_df['pickup_datetime'] = pd.to_datetime(train_df['pickup_datetime'])\n",
    "train_df['pickup_hour'] = train_df['pickup_datetime'].dt.hour\n",
    "train_df['pickup_day'] = train_df['pickup_datetime'].dt.dayofweek"
   ]
  },
  {
   "cell_type": "code",
   "execution_count": null,
   "metadata": {},
   "outputs": [],
   "source": [
    "plt.figure(figsize=(12,5))\n",
    "sns.countplot(x='pickup_hour', data=train_df)\n",
    "plt.title('Trips by Hour of Day')\n",
    "plt.xlabel('Hour')\n",
    "plt.ylabel('Trip Count')\n",
    "plt.show()"
   ]
  },
  {
   "cell_type": "markdown",
   "metadata": {},
   "source": [
    "Observation : 18 to 22 has highest Trip Count and it also represent the work finish time."
   ]
  },
  {
   "cell_type": "code",
   "execution_count": null,
   "metadata": {},
   "outputs": [],
   "source": [
    "weekday_labels = ['Monday', 'Tuesday', 'Wednesday', 'Thursday', 'Friday', 'Saturday', 'Sunday']\n",
    "train_df['pickup_day_name'] = train_df['pickup_day'].map({\n",
    "    0: 'Monday', 1: 'Tuesday', 2: 'Wednesday',\n",
    "    3: 'Thursday', 4: 'Friday', 5: 'Saturday', 6: 'Sunday'\n",
    "})\n",
    "plt.figure(figsize=(10,5))\n",
    "sns.countplot(x='pickup_day_name', data=train_df, order=weekday_labels)\n",
    "plt.title('Trips by Day of the Week')\n",
    "plt.xlabel('Day of Week')\n",
    "plt.ylabel('Trip Count')\n",
    "plt.show()"
   ]
  },
  {
   "cell_type": "markdown",
   "metadata": {},
   "source": [
    "Observation : Thursday to Saturday has the more Trip Count."
   ]
  },
  {
   "cell_type": "code",
   "execution_count": null,
   "metadata": {},
   "outputs": [],
   "source": [
    "hourly_avg = train_df.groupby('pickup_hour')['trip_duration'].mean()\n",
    "plt.figure(figsize=(12, 6))\n",
    "sns.lineplot(x=hourly_avg.index, y=hourly_avg.values, marker='o')\n",
    "\n",
    "plt.xticks(range(0, 24))  # X-axis from 0 to 23\n",
    "plt.title('Average Trip Duration by Hour of Day')\n",
    "plt.xlabel('Hour of Day (0 = midnight)')\n",
    "plt.ylabel('Average Trip Duration (seconds)')\n",
    "plt.grid(True)\n",
    "plt.tight_layout()\n",
    "plt.show()"
   ]
  },
  {
   "cell_type": "code",
   "execution_count": null,
   "metadata": {},
   "outputs": [],
   "source": [
    "avg_by_day = train_df.groupby('pickup_day_name')['trip_duration'].mean()\n",
    "\n",
    "avg_by_day = avg_by_day.reindex(weekday_labels)\n",
    "plt.figure(figsize=(10, 6))\n",
    "sns.lineplot(x=avg_by_day.index, y=avg_by_day.values, marker='o')\n",
    "\n",
    "plt.title('Average Trip Duration by Day of the Week')\n",
    "plt.xlabel('Day of the Week')\n",
    "plt.ylabel('Average Trip Duration (seconds)')\n",
    "plt.grid(True)\n",
    "plt.tight_layout()\n",
    "plt.show()"
   ]
  },
  {
   "cell_type": "markdown",
   "metadata": {},
   "source": [
    "## 3. Geospatial Features (latitude and longtitude) :\n",
    "New York City's latitude and longtitude cooridnates are 40.730610, -73.935242."
   ]
  },
  {
   "cell_type": "code",
   "execution_count": null,
   "metadata": {},
   "outputs": [],
   "source": [
    "plt.figure(figsize=(6,6))\n",
    "sns.scatterplot(x=train_df['pickup_longitude'], y=train_df['pickup_latitude'], s=1, alpha=0.3)\n",
    "plt.title('Pickup Locations (Zoomed)')\n",
    "plt.xlim(-74.05, -73.75)\n",
    "plt.ylim(40.63, 40.85)\n",
    "plt.xlabel('Longitude')\n",
    "plt.ylabel('Latitude')\n",
    "plt.show()"
   ]
  },
  {
   "cell_type": "markdown",
   "metadata": {},
   "source": [
    "Observation :\n",
    "- Northwest : Midtown and Downtown Manhattan. This area has high taxi activity and clear street system.\n",
    "- Southeast : JFK airport. There is a long curve path to the airport."
   ]
  },
  {
   "cell_type": "code",
   "execution_count": null,
   "metadata": {},
   "outputs": [],
   "source": [
    "plt.figure(figsize=(10, 8))\n",
    "sns.scatterplot(\n",
    "    data=train_df[train_df['trip_duration'] < 3600],  # remove extreme outliers\n",
    "    x='pickup_longitude',\n",
    "    y='pickup_latitude',\n",
    "    hue=np.log1p(train_df[train_df['trip_duration'] < 3600]['trip_duration']),\n",
    "    palette='viridis',\n",
    "    alpha=0.5,\n",
    "    legend=False\n",
    ")\n",
    "plt.title('Pickup Locations Colored by Trip Duration (log scale)')\n",
    "plt.xlabel('Longitude')\n",
    "plt.ylabel('Latitude')\n",
    "plt.xlim(-74.05, -73.75)\n",
    "plt.ylim(40.63, 40.85)\n",
    "plt.show()"
   ]
  },
  {
   "cell_type": "markdown",
   "metadata": {},
   "source": [
    "Observation :\n",
    "- Yellow = longer trip duration, Green = shorter trip duration\n",
    "- The yellow dots are at the bottom right which is JFK International Airport. These pickups tend to have longer trip durations, which makes sense, because taxis from JFK often go into Manhattan or outer boroughs (long distances).\n",
    "- The green dots are at center left which is Manhattan, likely shorter trips, possibly due to high taxi density and traffic."
   ]
  },
  {
   "cell_type": "markdown",
   "metadata": {},
   "source": [
    "## 4. Passenager count"
   ]
  },
  {
   "cell_type": "code",
   "execution_count": null,
   "metadata": {},
   "outputs": [],
   "source": [
    "trip_counts = train_df['passenger_count'].value_counts().sort_index()\n",
    "trip_counts"
   ]
  },
  {
   "cell_type": "markdown",
   "metadata": {},
   "source": [
    "Observation :\n",
    "1. There are 60 rows where passenger_count == 0 which means 60 trips recorded with 0 passengers. It does not make sense."
   ]
  },
  {
   "cell_type": "code",
   "execution_count": null,
   "metadata": {},
   "outputs": [],
   "source": [
    "plt.figure(figsize=(8,5))\n",
    "sns.countplot(x='passenger_count', data=train_df)\n",
    "plt.title('Trip Count by Passenger Count')\n",
    "plt.show()"
   ]
  },
  {
   "cell_type": "code",
   "execution_count": null,
   "metadata": {},
   "outputs": [],
   "source": [
    "passenger_avg = train_df.groupby('passenger_count')['trip_duration'].mean()\n",
    "plt.figure(figsize=(10, 5))\n",
    "sns.lineplot(x=passenger_avg.index, y=passenger_avg.values, marker='o')\n",
    "\n",
    "plt.title('Average Trip Duration by Passenger Count')\n",
    "plt.xlabel('Passenger Count')\n",
    "plt.ylabel('Average Trip Duration (seconds)')\n",
    "plt.xticks(passenger_avg.index)  # Ensure all categories show\n",
    "plt.grid(True)\n",
    "plt.tight_layout()\n",
    "plt.show()"
   ]
  },
  {
   "cell_type": "markdown",
   "metadata": {},
   "source": [
    "## 5. Vendor_id"
   ]
  },
  {
   "cell_type": "code",
   "execution_count": null,
   "metadata": {},
   "outputs": [],
   "source": [
    "plt.figure(figsize=(6, 5))\n",
    "sns.countplot(x='vendor_id', data=train_df, palette='Set2')\n",
    "\n",
    "plt.title('Trip Count by Vendor ID')\n",
    "plt.xlabel('Vendor ID')\n",
    "plt.ylabel('Number of Trips')\n",
    "plt.xticks([0, 1], labels=['Vendor 1', 'Vendor 2'])  # optional custom labels\n",
    "plt.grid(axis='y', linestyle='--', alpha=0.7)\n",
    "plt.tight_layout()\n",
    "plt.show()"
   ]
  },
  {
   "cell_type": "code",
   "execution_count": null,
   "metadata": {},
   "outputs": [],
   "source": [
    "vendor_avg_duration = train_df.groupby('vendor_id')['trip_duration'].mean()\n",
    "\n",
    "plt.figure(figsize=(6, 5))\n",
    "sns.barplot(x=vendor_avg_duration.index, y=vendor_avg_duration.values, palette='Set2')\n",
    "\n",
    "plt.title('Average Trip Duration by Vendor ID')\n",
    "plt.xlabel('Vendor ID')\n",
    "plt.ylabel('Avg Trip Duration (seconds)')\n",
    "plt.xticks([0, 1], labels=['Vendor 1', 'Vendor 2'])  # Optional: label mapping\n",
    "plt.grid(axis='y', linestyle='--', alpha=0.6)\n",
    "plt.tight_layout()\n",
    "plt.show()"
   ]
  },
  {
   "cell_type": "markdown",
   "metadata": {},
   "source": [
    "Observation :\n",
    "Vendor 2 has more trip count and also it tend to has longer trip duration."
   ]
  },
  {
   "cell_type": "markdown",
   "metadata": {},
   "source": [
    "## 6. Store and fwd flag\n",
    "- N :  transmitted to the server in real time \n",
    "- Y :  stored temporarily."
   ]
  },
  {
   "cell_type": "code",
   "execution_count": null,
   "metadata": {},
   "outputs": [],
   "source": [
    "plt.figure(figsize=(6, 5))\n",
    "sns.countplot(x='store_and_fwd_flag', data=train_df, palette='Set3')\n",
    "\n",
    "plt.title('Trip Count by Store-and-Forward Flag')\n",
    "plt.xlabel('store_and_fwd_flag (N = Realtime, Y = Stored)')\n",
    "plt.ylabel('Number of Trips')\n",
    "plt.grid(axis='y', linestyle='--', alpha=0.7)\n",
    "plt.tight_layout()\n",
    "plt.show()"
   ]
  },
  {
   "cell_type": "code",
   "execution_count": null,
   "metadata": {},
   "outputs": [],
   "source": [
    "avg_duration = train_df.groupby('store_and_fwd_flag')['trip_duration'].mean()\n",
    "\n",
    "plt.figure(figsize=(6, 5))\n",
    "sns.barplot(x=avg_duration.index, y=avg_duration.values, palette='Set3')\n",
    "\n",
    "plt.title('Average Trip Duration by Store-and-Forward Flag')\n",
    "plt.xlabel('store_and_fwd_flag (N = Realtime, Y = Stored)')\n",
    "plt.ylabel('Avg Trip Duration (seconds)')\n",
    "plt.grid(axis='y', linestyle='--', alpha=0.7)\n",
    "plt.tight_layout()\n",
    "plt.show()"
   ]
  },
  {
   "cell_type": "markdown",
   "metadata": {},
   "source": [
    "Observation : \n",
    " - Most of the trip is transmitted to the server in real time.\n",
    " - Trips marked as Y (stored) have a higher average trip duration than those marked N.\n",
    " - Longer trips are more likely to leave real-time coverage zones, such as Airport trips, Tunnels or bridges, Outer boroughs with weaker signal."
   ]
  },
  {
   "cell_type": "code",
   "execution_count": null,
   "metadata": {},
   "outputs": [],
   "source": [
    "print(train_df.isnull().sum())\n",
    "print(test_df.isnull().sum())\n",
    "print(train_df.duplicated().sum())\n",
    "print(test_df.duplicated().sum())"
   ]
  },
  {
   "cell_type": "markdown",
   "metadata": {},
   "source": [
    "# Train and evaluate models"
   ]
  },
  {
   "cell_type": "markdown",
   "metadata": {},
   "source": [
    "## Randam Forest"
   ]
  },
  {
   "cell_type": "code",
   "execution_count": null,
   "metadata": {},
   "outputs": [],
   "source": [
    "from sklearn.compose import ColumnTransformer\n",
    "from sklearn.preprocessing import OneHotEncoder, StandardScaler\n",
    "from sklearn.model_selection import train_test_split\n",
    "from sklearn.ensemble import RandomForestRegressor\n",
    "from sklearn.metrics import mean_squared_error, mean_absolute_percentage_error,median_absolute_error,r2_score,explained_variance_score"
   ]
  },
  {
   "cell_type": "code",
   "execution_count": null,
   "metadata": {},
   "outputs": [],
   "source": [
    "train_rf_df = train_df.copy()\n",
    "test_rf_df = test_df.copy()"
   ]
  },
  {
   "cell_type": "code",
   "execution_count": null,
   "metadata": {},
   "outputs": [],
   "source": [
    "#Obtain the day of the week and the hour of pickup from the train data\n",
    "train_rf_df['pickup_datetime'] = pd.to_datetime(train_rf_df['pickup_datetime'], format='%Y-%m-%d %H:%M:%S')\n",
    "train_rf_df['pickup_week'] = train_rf_df['pickup_datetime'].dt.day_name()\n",
    "train_rf_df['pickup_hour'] = train_rf_df['pickup_datetime'].dt.hour\n",
    "#Obtain the day of the week and the hour of pickup from the test data\n",
    "test_rf_df['pickup_datetime'] = pd.to_datetime(test_rf_df['pickup_datetime'], format='%Y-%m-%d %H:%M:%S')\n",
    "test_rf_df['pickup_week'] = test_rf_df['pickup_datetime'].dt.day_name()\n",
    "test_rf_df['pickup_hour'] = test_rf_df['pickup_datetime'].dt.hour"
   ]
  },
  {
   "cell_type": "code",
   "execution_count": null,
   "metadata": {},
   "outputs": [],
   "source": [
    "def haversine_np(lat1, lon1, lat2, lon2):\n",
    "    R = 6371.0\n",
    "    q = np.radians(lat1)\n",
    "    w = np.radians(lat2)\n",
    "    e = np.radians(lat2 - lat1)\n",
    "    r = np.radians(lon2 - lon1)\n",
    "    \n",
    "    a = np.sin(e/2.0)**2 + np.cos(q) * np.cos(w) * np.sin(r/2.0)**2\n",
    "    c = 2 * np.arcsin(np.sqrt(a))\n",
    "    return R * c"
   ]
  },
  {
   "cell_type": "code",
   "execution_count": null,
   "metadata": {},
   "outputs": [],
   "source": [
    "#Get the distace from point to point\n",
    "train_rf_df['distance_km'] = haversine_np(train_rf_df['pickup_latitude'],\n",
    "    train_rf_df['pickup_longitude'],\n",
    "    train_rf_df['dropoff_latitude'],\n",
    "    train_rf_df['dropoff_longitude'])\n",
    "#Get the distace from point to point\n",
    "test_rf_df['distance_km'] = haversine_np(test_rf_df['pickup_latitude'],\n",
    "    test_rf_df['pickup_longitude'],\n",
    "    test_rf_df['dropoff_latitude'],\n",
    "    test_rf_df['dropoff_longitude'])"
   ]
  },
  {
   "cell_type": "code",
   "execution_count": null,
   "metadata": {},
   "outputs": [],
   "source": [
    "train_rf_df.head()\n",
    "test_rf_df.head()"
   ]
  },
  {
   "cell_type": "code",
   "execution_count": null,
   "metadata": {},
   "outputs": [],
   "source": [
    "#Observe datatype of the columns\n",
    "print(train_rf_df.dtypes)\n",
    "print(test_rf_df.dtypes)"
   ]
  },
  {
   "cell_type": "code",
   "execution_count": null,
   "metadata": {},
   "outputs": [],
   "source": [
    "#Define the independent variables in categories \n",
    "cat_cols = ['vendor_id', 'store_and_fwd_flag', 'pickup_week']\n",
    "num_cols   = ['passenger_count','pickup_longitude', 'pickup_latitude','dropoff_longitude', 'dropoff_latitude','pickup_hour', 'distance_km']"
   ]
  },
  {
   "cell_type": "code",
   "execution_count": null,
   "metadata": {},
   "outputs": [],
   "source": [
    "\n",
    "train_rf_df['log_trip_duration'] = np.log1p(train_rf_df['trip_duration'])"
   ]
  },
  {
   "cell_type": "code",
   "execution_count": null,
   "metadata": {},
   "outputs": [],
   "source": [
    "X = train_rf_df[num_cols + cat_cols]\n",
    "y = train_rf_df['log_trip_duration']\n",
    "X_test  = test_rf_df[num_cols + cat_cols]\n",
    "x_train,x_val,y_train,y_val = train_test_split(X, y, test_size=0.2, random_state=42, shuffle=True)"
   ]
  },
  {
   "cell_type": "code",
   "execution_count": null,
   "metadata": {},
   "outputs": [],
   "source": [
    "#Set up a preprocessing pipeline\n",
    "preprocessor = ColumnTransformer(transformers=[ ('num', StandardScaler(), num_cols),('cat', OneHotEncoder(handle_unknown='ignore', sparse=False), cat_cols)])"
   ]
  },
  {
   "cell_type": "code",
   "execution_count": null,
   "metadata": {},
   "outputs": [],
   "source": [
    "X_train_proc = preprocessor.fit_transform(x_train)\n",
    "X_test_proc  = preprocessor.transform(x_val)"
   ]
  },
  {
   "cell_type": "code",
   "execution_count": null,
   "metadata": {},
   "outputs": [],
   "source": [
    "RF = RandomForestRegressor(n_estimators=50, random_state=42)\n",
    "RF.fit(X_train_proc, y_train)\n",
    "P_RF = RF.predict(X_test_proc)\n",
    "\n"
   ]
  },
  {
   "cell_type": "code",
   "execution_count": null,
   "metadata": {},
   "outputs": [],
   "source": [
    "metrics = {\n",
    "    'MSE (Actual value)'      : mean_squared_error(np.expm1(y_val), np.expm1(P_RF)),\n",
    "    'MAPE'     : mean_absolute_percentage_error(y_val, P_RF),\n",
    "    'MedianAE' : median_absolute_error(y_val, P_RF),\n",
    "    'R2'       : r2_score(y_val, P_RF),\n",
    "    'ExplVar'  : explained_variance_score(y_val, P_RF),\n",
    "    \"rmsle\" : np.sqrt(mean_squared_error(y_val, P_RF ))\n",
    "}\n",
    "for name, val in metrics.items():\n",
    "    print(f\"{name:7s}: {val:.4f}\")"
   ]
  },
  {
   "cell_type": "markdown",
   "metadata": {},
   "source": [
    "## XGBoost"
   ]
  },
  {
   "cell_type": "code",
   "execution_count": null,
   "metadata": {},
   "outputs": [],
   "source": [
    "import xgboost as xgb\n",
    "from sklearn.model_selection import train_test_split\n",
    "from sklearn.metrics import mean_squared_error"
   ]
  },
  {
   "cell_type": "code",
   "execution_count": null,
   "metadata": {},
   "outputs": [],
   "source": [
    "# Encode store_and_fwd_flag \n",
    "train_df['store_and_fwd_flag'] = train_df['store_and_fwd_flag'].map({'N': 0, 'Y': 1})"
   ]
  },
  {
   "cell_type": "code",
   "execution_count": null,
   "metadata": {},
   "outputs": [],
   "source": [
    "train_df.head()"
   ]
  },
  {
   "cell_type": "code",
   "execution_count": null,
   "metadata": {},
   "outputs": [],
   "source": [
    "# only choose the features, avoid the feature that for EDA\n",
    "features = [\n",
    "    'vendor_id', 'pickup_longitude', 'pickup_latitude',\n",
    "    'dropoff_longitude', 'dropoff_latitude',\n",
    "    'passenger_count', 'store_and_fwd_flag',\n",
    "    'pickup_hour', 'pickup_day'\n",
    "]"
   ]
  },
  {
   "cell_type": "code",
   "execution_count": null,
   "metadata": {},
   "outputs": [],
   "source": [
    "# target use raw and log\n",
    "X = train_df[features]\n",
    "y_raw = train_df['trip_duration']\n",
    "y_log = np.log1p(train_df['trip_duration'])"
   ]
  },
  {
   "cell_type": "code",
   "execution_count": null,
   "metadata": {},
   "outputs": [],
   "source": [
    "#split train and test\n",
    "X_train, X_valid, y_train_raw, y_valid_raw = train_test_split(X, y_raw, test_size=0.2, random_state=42)\n",
    "_, _, y_train_log, y_valid_log = train_test_split(X, y_log, test_size=0.2, random_state=42)"
   ]
  },
  {
   "cell_type": "code",
   "execution_count": null,
   "metadata": {},
   "outputs": [],
   "source": [
    "# bulid the model\n",
    "model_raw = xgb.XGBRegressor(objective='reg:squarederror', n_estimators=300, learning_rate=0.1, max_depth=6, random_state=42)\n",
    "model_log = xgb.XGBRegressor(objective='reg:squarederror', n_estimators=300, learning_rate=0.1, max_depth=6, random_state=42)"
   ]
  },
  {
   "cell_type": "code",
   "execution_count": null,
   "metadata": {},
   "outputs": [],
   "source": [
    "# train model\n",
    "model_raw.fit(X_train, y_train_raw)\n",
    "model_log.fit(X_train, y_train_log)"
   ]
  },
  {
   "cell_type": "code",
   "execution_count": null,
   "metadata": {},
   "outputs": [],
   "source": [
    "# predict\n",
    "pred_raw = model_raw.predict(X_valid)\n",
    "pred_log = model_log.predict(X_valid) "
   ]
  },
  {
   "cell_type": "code",
   "execution_count": null,
   "metadata": {},
   "outputs": [],
   "source": [
    "from sklearn.metrics import mean_squared_error\n",
    "# Clip predictions to avoid negatives\n",
    "pred_raw_clipped = np.maximum(pred_raw, 0)\n",
    "\n",
    "# Now calculate RMSLE safely\n",
    "rmsle＿raw = mean_squared_error(np.log1p(y_valid_raw), np.log1p(pred_raw_clipped), squared=False)\n",
    "\n",
    "\n",
    "\n",
    "rmsle_log = mean_squared_error(y_valid_log, pred_log, squared=False)\n",
    "\n",
    "print(f\"RMSLE: {rmsle_raw:.4f}\")\n",
    "print(f\"RMSLE from log-transformed model: {rmsle_log:.4f}\")"
   ]
  },
  {
   "cell_type": "markdown",
   "metadata": {},
   "source": [
    "Observation: RMSE with log1p transform has better RMSE which is 3203s but it still way too large. So we are going to do more feature engineering."
   ]
  },
  {
   "cell_type": "markdown",
   "metadata": {},
   "source": [
    "## Feature Engineering\n",
    " - harversine distance\n",
    " - manhattan distance\n",
    " - rush hour\n",
    " - weekend"
   ]
  },
  {
   "cell_type": "markdown",
   "metadata": {},
   "source": [
    "### 1. Harversine distance"
   ]
  },
  {
   "cell_type": "code",
   "execution_count": null,
   "metadata": {},
   "outputs": [],
   "source": [
    "# harversine distance\n",
    "def haversine_distance(lat1, lon1, lat2, lon2):\n",
    "    R = 6371 \n",
    "    lat1, lon1, lat2, lon2 = map(np.radians, [lat1, lon1, lat2, lon2])\n",
    "    dlat = lat2 - lat1\n",
    "    dlon = lon2 - lon1\n",
    "    a = np.sin(dlat/2.0)**2 + np.cos(lat1) * np.cos(lat2) * np.sin(dlon/2.0)**2\n",
    "    c = 2 * np.arcsin(np.sqrt(a))\n",
    "    km = R * c\n",
    "    return km\n",
    "\n",
    "train_df['haversine_distance'] = haversine_distance(\n",
    "    train_df['pickup_latitude'],\n",
    "    train_df['pickup_longitude'],\n",
    "    train_df['dropoff_latitude'],\n",
    "    train_df['dropoff_longitude']\n",
    ")"
   ]
  },
  {
   "cell_type": "markdown",
   "metadata": {},
   "source": [
    "### 2. Manhattan distance"
   ]
  },
  {
   "cell_type": "code",
   "execution_count": null,
   "metadata": {},
   "outputs": [],
   "source": [
    "train_df['manhattan_distance'] = (\n",
    "    np.abs(train_df['dropoff_longitude'] - train_df['pickup_longitude']) +\n",
    "    np.abs(train_df['dropoff_latitude'] - train_df['pickup_latitude'])\n",
    ")"
   ]
  },
  {
   "cell_type": "markdown",
   "metadata": {},
   "source": [
    "### 3. Rush hour"
   ]
  },
  {
   "cell_type": "code",
   "execution_count": null,
   "metadata": {},
   "outputs": [],
   "source": [
    "# rush hour : 7-9am and 4-7pm\n",
    "train_df['rush_hour'] = train_df['pickup_hour'].apply(lambda x: 1 if (7 <= x <= 9) or (16 <= x <= 19) else 0)"
   ]
  },
  {
   "cell_type": "markdown",
   "metadata": {},
   "source": [
    "### 4. Weekend"
   ]
  },
  {
   "cell_type": "code",
   "execution_count": null,
   "metadata": {},
   "outputs": [],
   "source": [
    "train_df['weekend'] = train_df['pickup_day'].apply(lambda x: 1 if x >= 5 else 0)"
   ]
  },
  {
   "cell_type": "code",
   "execution_count": null,
   "metadata": {},
   "outputs": [],
   "source": [
    "features = [\n",
    "    'vendor_id', 'passenger_count', 'store_and_fwd_flag',\n",
    "    'pickup_longitude', 'pickup_latitude', 'dropoff_longitude', 'dropoff_latitude',\n",
    "    'pickup_hour', 'pickup_day',\n",
    "    'haversine_distance', 'manhattan_distance',\n",
    "    'rush_hour', 'weekend'\n",
    "]"
   ]
  },
  {
   "cell_type": "code",
   "execution_count": null,
   "metadata": {},
   "outputs": [],
   "source": [
    "X = train_df[features]\n",
    "y = np.log1p(train_df['trip_duration'])"
   ]
  },
  {
   "cell_type": "code",
   "execution_count": null,
   "metadata": {},
   "outputs": [],
   "source": [
    "X_train, X_valid, y_train, y_valid = train_test_split(X, y, test_size=0.2, random_state=42)"
   ]
  },
  {
   "cell_type": "code",
   "execution_count": null,
   "metadata": {},
   "outputs": [],
   "source": [
    "model = xgb.XGBRegressor(\n",
    "    objective='reg:squarederror',\n",
    "    n_estimators=300,\n",
    "    learning_rate=0.1,\n",
    "    max_depth=6,\n",
    "    subsample=0.8,\n",
    "    colsample_bytree=0.8,\n",
    "    random_state=42\n",
    ")\n"
   ]
  },
  {
   "cell_type": "code",
   "execution_count": null,
   "metadata": {},
   "outputs": [],
   "source": [
    "model.fit(X_train, y_train)"
   ]
  },
  {
   "cell_type": "code",
   "execution_count": null,
   "metadata": {},
   "outputs": [],
   "source": [
    "y_pred = model.predict(X_valid)"
   ]
  },
  {
   "cell_type": "code",
   "execution_count": null,
   "metadata": {},
   "outputs": [],
   "source": [
    "rmsle = mean_squared_error(y_valid, y_pred, squared=False)\n",
    "\n",
    "print(f\"RMSLE after Feature Engineering: {rmsle:.4f}\")"
   ]
  },
  {
   "cell_type": "markdown",
   "metadata": {},
   "source": [
    "Observation: RMSE after Feature Enginnering only improve 7 sec, so then try to remove some outliers."
   ]
  },
  {
   "cell_type": "markdown",
   "metadata": {},
   "source": [
    "## Handle Outliers"
   ]
  },
  {
   "cell_type": "code",
   "execution_count": null,
   "metadata": {},
   "outputs": [],
   "source": [
    "train_df['trip_duration'].describe()"
   ]
  },
  {
   "cell_type": "code",
   "execution_count": null,
   "metadata": {},
   "outputs": [],
   "source": [
    "# Remove trip duration lower than 10 sec and also higher than 3600 sec \n",
    "lower_bound = 10\n",
    "upper_bound = 3600\n",
    "\n",
    "train_df_cleaned = train_df[(train_df['trip_duration'] >= lower_bound) & (train_df['trip_duration'] <= upper_bound)]\n",
    "\n",
    "print(f\"Before handling outliers, there are {train_df.shape[0]} rows. After handling outliers, there are {train_df_cleaned.shape[0]} rows.\")"
   ]
  },
  {
   "cell_type": "markdown",
   "metadata": {},
   "source": [
    "Observation : Remove 14301 rows which is 10% of the dataset."
   ]
  },
  {
   "cell_type": "code",
   "execution_count": null,
   "metadata": {},
   "outputs": [],
   "source": [
    "features = [\n",
    "    'vendor_id', 'passenger_count', 'store_and_fwd_flag',\n",
    "    'pickup_longitude', 'pickup_latitude', 'dropoff_longitude', 'dropoff_latitude',\n",
    "    'pickup_hour', 'pickup_day',\n",
    "    'haversine_distance', 'manhattan_distance',\n",
    "    'rush_hour', 'weekend'\n",
    "]"
   ]
  },
  {
   "cell_type": "code",
   "execution_count": null,
   "metadata": {},
   "outputs": [],
   "source": [
    "X = train_df_cleaned[features]\n",
    "y = np.log1p(train_df_cleaned['trip_duration'])"
   ]
  },
  {
   "cell_type": "code",
   "execution_count": null,
   "metadata": {},
   "outputs": [],
   "source": [
    "X_train, X_valid, y_train, y_valid = train_test_split(X, y, test_size=0.2, random_state=42)"
   ]
  },
  {
   "cell_type": "code",
   "execution_count": null,
   "metadata": {},
   "outputs": [],
   "source": [
    "model = xgb.XGBRegressor(\n",
    "    objective='reg:squarederror',\n",
    "    n_estimators=300,\n",
    "    learning_rate=0.1,\n",
    "    max_depth=6,\n",
    "    subsample=0.8,\n",
    "    colsample_bytree=0.8,\n",
    "    random_state=42\n",
    ")"
   ]
  },
  {
   "cell_type": "code",
   "execution_count": null,
   "metadata": {},
   "outputs": [],
   "source": [
    "model.fit(X_train, y_train)"
   ]
  },
  {
   "cell_type": "code",
   "execution_count": null,
   "metadata": {},
   "outputs": [],
   "source": [
    "y_pred = model.predict(X_valid)"
   ]
  },
  {
   "cell_type": "code",
   "execution_count": null,
   "metadata": {},
   "outputs": [],
   "source": [
    "rmsle = mean_squared_error(y_valid, y_pred, squared=False)\n",
    "\n",
    "print(f\"RMSLE after removing outliers: {rmsle:.4f}\")"
   ]
  },
  {
   "cell_type": "code",
   "execution_count": null,
   "metadata": {},
   "outputs": [],
   "source": [
    "# 1. Data Preprocessing\n",
    "\n",
    "# store_and_fwd_flag: N=0, Y=1\n",
    "test_df['store_and_fwd_flag'] = test_df['store_and_fwd_flag'].map({'N':0, 'Y':1})\n",
    "\n",
    "# pickup_datetime ➔  pickup_hour, pickup_day\n",
    "test_df['pickup_datetime'] = pd.to_datetime(test_df['pickup_datetime'])\n",
    "test_df['pickup_hour'] = test_df['pickup_datetime'].dt.hour\n",
    "test_df['pickup_day'] = test_df['pickup_datetime'].dt.dayofweek\n",
    "\n",
    "# haversine distance\n",
    "def haversine_distance(lat1, lon1, lat2, lon2):\n",
    "    R = 6371\n",
    "    lat1, lon1, lat2, lon2 = map(np.radians, [lat1, lon1, lat2, lon2])\n",
    "    dlat = lat2 - lat1\n",
    "    dlon = lon2 - lon1\n",
    "    a = np.sin(dlat/2.0)**2 + np.cos(lat1) * np.cos(lat2) * np.sin(dlon/2.0)**2\n",
    "    c = 2 * np.arcsin(np.sqrt(a))\n",
    "    return R * c\n",
    "\n",
    "test_df['haversine_distance'] = haversine_distance(\n",
    "    test_df['pickup_latitude'],\n",
    "    test_df['pickup_longitude'],\n",
    "    test_df['dropoff_latitude'],\n",
    "    test_df['dropoff_longitude']\n",
    ")\n",
    "\n",
    "# manhattan distance\n",
    "test_df['manhattan_distance'] = (\n",
    "    np.abs(test_df['dropoff_longitude'] - test_df['pickup_longitude']) +\n",
    "    np.abs(test_df['dropoff_latitude'] - test_df['pickup_latitude'])\n",
    ")\n",
    "\n",
    "# rush_hour, weekend\n",
    "test_df['rush_hour'] = test_df['pickup_hour'].apply(lambda x: 1 if (7 <= x <= 9) or (16 <= x <= 19) else 0)\n",
    "test_df['weekend'] = test_df['pickup_day'].apply(lambda x: 1 if x >= 5 else 0)\n",
    "\n",
    "# 2. choose features same as train data\n",
    "features = [\n",
    "    'vendor_id', 'passenger_count', 'store_and_fwd_flag',\n",
    "    'pickup_longitude', 'pickup_latitude', 'dropoff_longitude', 'dropoff_latitude',\n",
    "    'pickup_hour', 'pickup_day',\n",
    "    'haversine_distance', 'manhattan_distance',\n",
    "    'rush_hour', 'weekend'\n",
    "]\n",
    "\n",
    "X_test = test_df[features]\n",
    "\n",
    "# 3. use the final model to predict\n",
    "test_preds_log = model.predict(X_test)\n",
    "\n",
    "# log convert back \n",
    "test_preds = np.expm1(test_preds_log)\n",
    "\n",
    "# in case there is negative value\n",
    "test_preds = np.clip(test_preds, 1, None)\n",
    "\n",
    "# 4. submission DataFrame\n",
    "submission = pd.DataFrame({\n",
    "    'id': test_df['id'], \n",
    "    'trip_duration': test_preds\n",
    "})\n",
    "\n",
    "# 5. csv file\n",
    "submission.to_csv('submission.csv', index=False)\n",
    "\n",
    "print(\"✅ Successfully created submission.csv!\")\n"
   ]
  }
 ],
 "metadata": {
  "kaggle": {
   "accelerator": "none",
   "dataSources": [
    {
     "databundleVersionId": 44258,
     "sourceId": 6960,
     "sourceType": "competition"
    }
   ],
   "dockerImageVersionId": 31012,
   "isGpuEnabled": false,
   "isInternetEnabled": true,
   "language": "python",
   "sourceType": "notebook"
  },
  "kernelspec": {
   "display_name": "Python 3",
   "language": "python",
   "name": "python3"
  },
  "language_info": {
   "codemirror_mode": {
    "name": "ipython",
    "version": 3
   },
   "file_extension": ".py",
   "mimetype": "text/x-python",
   "name": "python",
   "nbconvert_exporter": "python",
   "pygments_lexer": "ipython3",
   "version": "3.11.11"
  }
 },
 "nbformat": 4,
 "nbformat_minor": 4
}
